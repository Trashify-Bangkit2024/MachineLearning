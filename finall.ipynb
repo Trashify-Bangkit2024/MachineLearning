{
 "cells": [
  {
   "cell_type": "code",
   "execution_count": 1,
   "metadata": {},
   "outputs": [
    {
     "name": "stdout",
     "output_type": "stream",
     "text": [
      "WARNING:tensorflow:From C:\\Users\\N1NRK\\AppData\\Roaming\\Python\\Python311\\site-packages\\keras\\src\\losses.py:2976: The name tf.losses.sparse_softmax_cross_entropy is deprecated. Please use tf.compat.v1.losses.sparse_softmax_cross_entropy instead.\n",
      "\n"
     ]
    }
   ],
   "source": [
    "import tensorflow as tf\n",
    "from tensorflow.keras.preprocessing.image import ImageDataGenerator\n",
    "from tensorflow.keras.models import Sequential\n",
    "from tensorflow.keras.layers import Dense, Dropout, GlobalAveragePooling2D, Conv2D, MaxPooling2D, Flatten\n",
    "from tensorflow.keras.applications import MobileNetV2\n",
    "from tensorflow.keras.optimizers import Adam\n",
    "from tensorflow.keras.callbacks import ReduceLROnPlateau, EarlyStopping\n",
    "import matplotlib.pyplot as plt\n",
    "from sklearn.model_selection import train_test_split\n",
    "from tensorflow.keras.models import model_from_json\n",
    "import os\n",
    "import numpy as np"
   ]
  },
  {
   "cell_type": "code",
   "execution_count": 2,
   "metadata": {},
   "outputs": [],
   "source": [
    "# Tentukan direktori dataset\n",
    "dataset_dir = 'C:\\\\Users\\\\N1NRK\\\\OneDrive\\\\Documents\\\\dataset-sampah\\\\dataset-sampah'\n",
    "img_height, img_width = 224, 224\n",
    "batch_size = 32"
   ]
  },
  {
   "cell_type": "code",
   "execution_count": 3,
   "metadata": {},
   "outputs": [],
   "source": [
    "# Membuat list gambar dan label\n",
    "def load_data(data_dir):\n",
    "    images = []\n",
    "    labels = []\n",
    "    class_names = os.listdir(data_dir)\n",
    "    for class_name in class_names:\n",
    "        class_dir = os.path.join(data_dir, class_name)\n",
    "        for img_name in os.listdir(class_dir):\n",
    "            img_path = os.path.join(class_dir, img_name)\n",
    "            img = tf.keras.preprocessing.image.load_img(img_path, target_size=(img_height, img_width))\n",
    "            img = tf.keras.preprocessing.image.img_to_array(img)\n",
    "            images.append(img)\n",
    "            labels.append(class_name)\n",
    "    return np.array(images), np.array(labels), class_names\n",
    "\n",
    "images, labels, class_names = load_data(dataset_dir)"
   ]
  },
  {
   "cell_type": "code",
   "execution_count": 4,
   "metadata": {},
   "outputs": [],
   "source": [
    "# Encode labels\n",
    "label_to_index = {name: index for index, name in enumerate(class_names)}\n",
    "labels = np.array([label_to_index[label] for label in labels])\n"
   ]
  },
  {
   "cell_type": "code",
   "execution_count": 5,
   "metadata": {},
   "outputs": [],
   "source": [
    "# Split data menjadi data pelatihan dan data pengujian\n",
    "x_train, x_test, y_train, y_test = train_test_split(images, labels, test_size=0.2, random_state=42, stratify=labels)\n"
   ]
  },
  {
   "cell_type": "code",
   "execution_count": 6,
   "metadata": {},
   "outputs": [],
   "source": [
    "# Normalisasi data\n",
    "x_train = x_train / 255.0\n",
    "x_test = x_test / 255.0"
   ]
  },
  {
   "cell_type": "code",
   "execution_count": 7,
   "metadata": {},
   "outputs": [],
   "source": [
    "# Membuat ImageDataGenerator untuk augmentasi data\n",
    "train_datagen = ImageDataGenerator(\n",
    "    rotation_range=30,\n",
    "    width_shift_range=0.3,\n",
    "    height_shift_range=0.3,\n",
    "    shear_range=0.3,\n",
    "    zoom_range=0.3,\n",
    "    horizontal_flip=True,\n",
    "    fill_mode='nearest'\n",
    ")\n",
    "\n",
    "test_datagen = ImageDataGenerator()\n",
    "\n",
    "train_generator = train_datagen.flow(x_train, y_train, batch_size=batch_size)\n",
    "validation_generator = test_datagen.flow(x_test, y_test, batch_size=batch_size)\n"
   ]
  },
  {
   "cell_type": "code",
   "execution_count": 8,
   "metadata": {},
   "outputs": [
    {
     "name": "stdout",
     "output_type": "stream",
     "text": [
      "WARNING:tensorflow:From C:\\Users\\N1NRK\\AppData\\Roaming\\Python\\Python311\\site-packages\\keras\\src\\backend.py:1398: The name tf.executing_eagerly_outside_functions is deprecated. Please use tf.compat.v1.executing_eagerly_outside_functions instead.\n",
      "\n",
      "WARNING:tensorflow:From C:\\Users\\N1NRK\\AppData\\Roaming\\Python\\Python311\\site-packages\\keras\\src\\layers\\normalization\\batch_normalization.py:979: The name tf.nn.fused_batch_norm is deprecated. Please use tf.compat.v1.nn.fused_batch_norm instead.\n",
      "\n"
     ]
    }
   ],
   "source": [
    "# Menggunakan MobileNetV2 sebagai feature extractor\n",
    "base_model = MobileNetV2(weights='imagenet', include_top=False, input_shape=(img_height, img_width, 3))\n"
   ]
  },
  {
   "cell_type": "code",
   "execution_count": 9,
   "metadata": {},
   "outputs": [],
   "source": [
    "# Membekukan semua lapisan kecuali lapisan terakhir\n",
    "for layer in base_model.layers[:-20]:\n",
    "    layer.trainable = False"
   ]
  },
  {
   "cell_type": "code",
   "execution_count": 10,
   "metadata": {},
   "outputs": [
    {
     "name": "stderr",
     "output_type": "stream",
     "text": [
      "WARNING:absl:`lr` is deprecated in Keras optimizer, please use `learning_rate` or use the legacy optimizer, e.g.,tf.keras.optimizers.legacy.Adam.\n"
     ]
    }
   ],
   "source": [
    "# Membangun model\n",
    "model = Sequential([\n",
    "    base_model,\n",
    "    GlobalAveragePooling2D(),\n",
    "    Dense(512, activation='relu'),\n",
    "    Dropout(0.5),\n",
    "    Dense(len(class_names), activation='softmax')\n",
    "])\n",
    "\n",
    "# Kompilasi model dengan learning rate scheduler\n",
    "model.compile(optimizer=Adam(lr=1e-4), \n",
    "              loss='sparse_categorical_crossentropy', \n",
    "              metrics=['accuracy'])\n",
    "\n",
    "# Callback untuk mengatur learning rate\n",
    "reduce_lr = ReduceLROnPlateau(monitor='val_loss', factor=0.2, patience=5, min_lr=1e-6)\n",
    "early_stop = EarlyStopping(monitor='val_loss', patience=10, restore_best_weights=True)"
   ]
  },
  {
   "cell_type": "code",
   "execution_count": 11,
   "metadata": {},
   "outputs": [
    {
     "name": "stdout",
     "output_type": "stream",
     "text": [
      "Epoch 1/50\n",
      "WARNING:tensorflow:From C:\\Users\\N1NRK\\AppData\\Roaming\\Python\\Python311\\site-packages\\keras\\src\\utils\\tf_utils.py:492: The name tf.ragged.RaggedTensorValue is deprecated. Please use tf.compat.v1.ragged.RaggedTensorValue instead.\n",
      "\n"
     ]
    },
    {
     "name": "stderr",
     "output_type": "stream",
     "text": [
      "WARNING:tensorflow:From C:\\Users\\N1NRK\\AppData\\Roaming\\Python\\Python311\\site-packages\\keras\\src\\utils\\tf_utils.py:492: The name tf.ragged.RaggedTensorValue is deprecated. Please use tf.compat.v1.ragged.RaggedTensorValue instead.\n",
      "\n"
     ]
    },
    {
     "name": "stdout",
     "output_type": "stream",
     "text": [
      "WARNING:tensorflow:From C:\\Users\\N1NRK\\AppData\\Roaming\\Python\\Python311\\site-packages\\keras\\src\\engine\\base_layer_utils.py:384: The name tf.executing_eagerly_outside_functions is deprecated. Please use tf.compat.v1.executing_eagerly_outside_functions instead.\n",
      "\n"
     ]
    },
    {
     "name": "stderr",
     "output_type": "stream",
     "text": [
      "WARNING:tensorflow:From C:\\Users\\N1NRK\\AppData\\Roaming\\Python\\Python311\\site-packages\\keras\\src\\engine\\base_layer_utils.py:384: The name tf.executing_eagerly_outside_functions is deprecated. Please use tf.compat.v1.executing_eagerly_outside_functions instead.\n",
      "\n"
     ]
    },
    {
     "name": "stdout",
     "output_type": "stream",
     "text": [
      "175/175 [==============================] - 63s 339ms/step - loss: 0.8959 - accuracy: 0.6938 - val_loss: 3.8163 - val_accuracy: 0.5993 - lr: 0.0010\n",
      "Epoch 2/50\n",
      "175/175 [==============================] - 58s 330ms/step - loss: 0.5973 - accuracy: 0.7962 - val_loss: 3.6233 - val_accuracy: 0.5857 - lr: 0.0010\n",
      "Epoch 3/50\n",
      "175/175 [==============================] - 59s 335ms/step - loss: 0.5239 - accuracy: 0.8295 - val_loss: 4.9403 - val_accuracy: 0.5200 - lr: 0.0010\n",
      "Epoch 4/50\n",
      "175/175 [==============================] - 58s 332ms/step - loss: 0.4589 - accuracy: 0.8489 - val_loss: 4.3848 - val_accuracy: 0.5814 - lr: 0.0010\n",
      "Epoch 5/50\n",
      "175/175 [==============================] - 60s 340ms/step - loss: 0.4246 - accuracy: 0.8602 - val_loss: 6.3374 - val_accuracy: 0.4636 - lr: 0.0010\n",
      "Epoch 6/50\n",
      "175/175 [==============================] - 60s 340ms/step - loss: 0.3451 - accuracy: 0.8893 - val_loss: 7.8778 - val_accuracy: 0.4350 - lr: 0.0010\n",
      "Epoch 7/50\n",
      "175/175 [==============================] - 59s 338ms/step - loss: 0.3321 - accuracy: 0.8896 - val_loss: 2.8691 - val_accuracy: 0.6614 - lr: 0.0010\n",
      "Epoch 8/50\n",
      "175/175 [==============================] - 59s 338ms/step - loss: 0.3042 - accuracy: 0.9030 - val_loss: 3.1654 - val_accuracy: 0.6786 - lr: 0.0010\n",
      "Epoch 9/50\n",
      "175/175 [==============================] - 60s 340ms/step - loss: 0.2818 - accuracy: 0.9141 - val_loss: 1.8706 - val_accuracy: 0.7636 - lr: 0.0010\n",
      "Epoch 10/50\n",
      "175/175 [==============================] - 59s 338ms/step - loss: 0.2540 - accuracy: 0.9186 - val_loss: 1.4015 - val_accuracy: 0.8143 - lr: 0.0010\n",
      "Epoch 11/50\n",
      "175/175 [==============================] - 59s 340ms/step - loss: 0.2637 - accuracy: 0.9179 - val_loss: 7.5879 - val_accuracy: 0.4814 - lr: 0.0010\n",
      "Epoch 12/50\n",
      "175/175 [==============================] - 60s 340ms/step - loss: 0.2386 - accuracy: 0.9243 - val_loss: 1.4546 - val_accuracy: 0.8164 - lr: 0.0010\n",
      "Epoch 13/50\n",
      "175/175 [==============================] - 60s 340ms/step - loss: 0.1958 - accuracy: 0.9305 - val_loss: 1.9387 - val_accuracy: 0.7836 - lr: 0.0010\n",
      "Epoch 14/50\n",
      "175/175 [==============================] - 60s 340ms/step - loss: 0.2228 - accuracy: 0.9275 - val_loss: 1.3857 - val_accuracy: 0.8000 - lr: 0.0010\n",
      "Epoch 15/50\n",
      "175/175 [==============================] - 60s 342ms/step - loss: 0.2121 - accuracy: 0.9307 - val_loss: 1.1705 - val_accuracy: 0.8286 - lr: 0.0010\n",
      "Epoch 16/50\n",
      "175/175 [==============================] - 59s 340ms/step - loss: 0.1896 - accuracy: 0.9393 - val_loss: 1.1269 - val_accuracy: 0.8657 - lr: 0.0010\n",
      "Epoch 17/50\n",
      "175/175 [==============================] - 59s 340ms/step - loss: 0.1867 - accuracy: 0.9405 - val_loss: 1.4929 - val_accuracy: 0.8207 - lr: 0.0010\n",
      "Epoch 18/50\n",
      "175/175 [==============================] - 60s 341ms/step - loss: 0.1764 - accuracy: 0.9421 - val_loss: 1.5276 - val_accuracy: 0.8150 - lr: 0.0010\n",
      "Epoch 19/50\n",
      "175/175 [==============================] - 60s 341ms/step - loss: 0.1682 - accuracy: 0.9468 - val_loss: 1.2574 - val_accuracy: 0.8457 - lr: 0.0010\n",
      "Epoch 20/50\n",
      "175/175 [==============================] - 59s 339ms/step - loss: 0.1403 - accuracy: 0.9538 - val_loss: 1.2863 - val_accuracy: 0.8457 - lr: 0.0010\n",
      "Epoch 21/50\n",
      "175/175 [==============================] - 83s 474ms/step - loss: 0.1504 - accuracy: 0.9529 - val_loss: 1.0390 - val_accuracy: 0.8607 - lr: 0.0010\n",
      "Epoch 22/50\n",
      "175/175 [==============================] - 140s 800ms/step - loss: 0.1385 - accuracy: 0.9561 - val_loss: 0.9341 - val_accuracy: 0.8836 - lr: 0.0010\n",
      "Epoch 23/50\n",
      "175/175 [==============================] - 140s 799ms/step - loss: 0.1449 - accuracy: 0.9552 - val_loss: 0.8945 - val_accuracy: 0.8836 - lr: 0.0010\n",
      "Epoch 24/50\n",
      "175/175 [==============================] - 135s 768ms/step - loss: 0.1525 - accuracy: 0.9520 - val_loss: 0.8521 - val_accuracy: 0.8786 - lr: 0.0010\n",
      "Epoch 25/50\n",
      "175/175 [==============================] - 69s 393ms/step - loss: 0.1269 - accuracy: 0.9575 - val_loss: 0.9911 - val_accuracy: 0.8907 - lr: 0.0010\n",
      "Epoch 26/50\n",
      "175/175 [==============================] - 60s 340ms/step - loss: 0.1435 - accuracy: 0.9573 - val_loss: 1.1445 - val_accuracy: 0.8507 - lr: 0.0010\n",
      "Epoch 27/50\n",
      "175/175 [==============================] - 60s 343ms/step - loss: 0.1145 - accuracy: 0.9646 - val_loss: 1.4388 - val_accuracy: 0.8357 - lr: 0.0010\n",
      "Epoch 28/50\n",
      "175/175 [==============================] - 59s 338ms/step - loss: 0.1310 - accuracy: 0.9614 - val_loss: 1.0789 - val_accuracy: 0.8486 - lr: 0.0010\n",
      "Epoch 29/50\n",
      "175/175 [==============================] - 60s 341ms/step - loss: 0.1309 - accuracy: 0.9586 - val_loss: 1.3328 - val_accuracy: 0.8271 - lr: 0.0010\n",
      "Epoch 30/50\n",
      "175/175 [==============================] - 60s 341ms/step - loss: 0.0765 - accuracy: 0.9770 - val_loss: 0.9332 - val_accuracy: 0.8686 - lr: 2.0000e-04\n",
      "Epoch 31/50\n",
      "175/175 [==============================] - 60s 340ms/step - loss: 0.0600 - accuracy: 0.9780 - val_loss: 0.9091 - val_accuracy: 0.8743 - lr: 2.0000e-04\n",
      "Epoch 32/50\n",
      "175/175 [==============================] - 60s 343ms/step - loss: 0.0564 - accuracy: 0.9814 - val_loss: 0.7649 - val_accuracy: 0.8886 - lr: 2.0000e-04\n",
      "Epoch 33/50\n",
      "175/175 [==============================] - 60s 344ms/step - loss: 0.0478 - accuracy: 0.9830 - val_loss: 0.7310 - val_accuracy: 0.8921 - lr: 2.0000e-04\n",
      "Epoch 34/50\n",
      "175/175 [==============================] - 60s 344ms/step - loss: 0.0412 - accuracy: 0.9862 - val_loss: 0.6345 - val_accuracy: 0.8986 - lr: 2.0000e-04\n",
      "Epoch 35/50\n",
      "175/175 [==============================] - 60s 345ms/step - loss: 0.0518 - accuracy: 0.9830 - val_loss: 0.6140 - val_accuracy: 0.8971 - lr: 2.0000e-04\n",
      "Epoch 36/50\n",
      "175/175 [==============================] - 60s 346ms/step - loss: 0.0459 - accuracy: 0.9848 - val_loss: 0.6046 - val_accuracy: 0.8943 - lr: 2.0000e-04\n",
      "Epoch 37/50\n",
      "175/175 [==============================] - 60s 343ms/step - loss: 0.0363 - accuracy: 0.9871 - val_loss: 0.6092 - val_accuracy: 0.9000 - lr: 2.0000e-04\n",
      "Epoch 38/50\n",
      "175/175 [==============================] - 61s 348ms/step - loss: 0.0395 - accuracy: 0.9886 - val_loss: 0.5804 - val_accuracy: 0.8979 - lr: 2.0000e-04\n",
      "Epoch 39/50\n",
      "175/175 [==============================] - 62s 355ms/step - loss: 0.0340 - accuracy: 0.9886 - val_loss: 0.6082 - val_accuracy: 0.8957 - lr: 2.0000e-04\n",
      "Epoch 40/50\n",
      "175/175 [==============================] - 61s 346ms/step - loss: 0.0358 - accuracy: 0.9887 - val_loss: 0.6350 - val_accuracy: 0.8943 - lr: 2.0000e-04\n",
      "Epoch 41/50\n",
      "175/175 [==============================] - 60s 344ms/step - loss: 0.0392 - accuracy: 0.9879 - val_loss: 0.6256 - val_accuracy: 0.8993 - lr: 2.0000e-04\n",
      "Epoch 42/50\n",
      "175/175 [==============================] - 61s 346ms/step - loss: 0.0365 - accuracy: 0.9889 - val_loss: 0.6106 - val_accuracy: 0.9029 - lr: 2.0000e-04\n",
      "Epoch 43/50\n",
      "175/175 [==============================] - 60s 345ms/step - loss: 0.0380 - accuracy: 0.9898 - val_loss: 0.6246 - val_accuracy: 0.9064 - lr: 2.0000e-04\n",
      "Epoch 44/50\n",
      "175/175 [==============================] - 60s 345ms/step - loss: 0.0412 - accuracy: 0.9886 - val_loss: 0.6000 - val_accuracy: 0.9043 - lr: 4.0000e-05\n",
      "Epoch 45/50\n",
      "175/175 [==============================] - 61s 346ms/step - loss: 0.0247 - accuracy: 0.9904 - val_loss: 0.5809 - val_accuracy: 0.9064 - lr: 4.0000e-05\n",
      "Epoch 46/50\n",
      "175/175 [==============================] - 61s 346ms/step - loss: 0.0264 - accuracy: 0.9900 - val_loss: 0.5722 - val_accuracy: 0.9064 - lr: 4.0000e-05\n",
      "Epoch 47/50\n",
      "175/175 [==============================] - 60s 342ms/step - loss: 0.0275 - accuracy: 0.9912 - val_loss: 0.5709 - val_accuracy: 0.9043 - lr: 4.0000e-05\n",
      "Epoch 48/50\n",
      "175/175 [==============================] - 61s 347ms/step - loss: 0.0314 - accuracy: 0.9895 - val_loss: 0.5662 - val_accuracy: 0.9057 - lr: 4.0000e-05\n",
      "Epoch 49/50\n",
      "175/175 [==============================] - 60s 343ms/step - loss: 0.0274 - accuracy: 0.9923 - val_loss: 0.5631 - val_accuracy: 0.9064 - lr: 4.0000e-05\n",
      "Epoch 50/50\n",
      "175/175 [==============================] - 60s 343ms/step - loss: 0.0278 - accuracy: 0.9914 - val_loss: 0.5555 - val_accuracy: 0.9029 - lr: 4.0000e-05\n"
     ]
    }
   ],
   "source": [
    "# Melatih model dengan callback\n",
    "epochs = 50\n",
    "\n",
    "history = model.fit(\n",
    "    train_generator,\n",
    "    steps_per_epoch=len(train_generator),\n",
    "    validation_data=validation_generator,\n",
    "    validation_steps=len(validation_generator),\n",
    "    epochs=epochs,\n",
    "    callbacks=[reduce_lr, early_stop]\n",
    ")"
   ]
  },
  {
   "cell_type": "code",
   "execution_count": 12,
   "metadata": {},
   "outputs": [
    {
     "name": "stdout",
     "output_type": "stream",
     "text": [
      "44/44 [==============================] - 7s 155ms/step - loss: 0.5555 - accuracy: 0.9029\n",
      "Validation Accuracy: 90.29%\n"
     ]
    }
   ],
   "source": [
    "# Evaluasi model\n",
    "loss, accuracy = model.evaluate(validation_generator)\n",
    "print(f'Validation Accuracy: {accuracy*100:.2f}%')"
   ]
  },
  {
   "cell_type": "code",
   "execution_count": 13,
   "metadata": {},
   "outputs": [
    {
     "data": {
      "image/png": "[encoded data removed]",
      "text/plain": [
       "<Figure size 1200x400 with 2 Axes>"
      ]
     },
     "metadata": {},
     "output_type": "display_data"
    }
   ],
   "source": [
    "# Plot training & validation accuracy values\n",
    "plt.figure(figsize=(12, 4))\n",
    "plt.subplot(1, 2, 1)\n",
    "plt.plot(history.history['accuracy'], label='Train Accuracy')\n",
    "plt.plot(history.history['val_accuracy'], label='Validation Accuracy')\n",
    "plt.title('Model Accuracy')\n",
    "plt.ylabel('Accuracy')\n",
    "plt.xlabel('Epoch')\n",
    "plt.legend(loc='upper left')\n",
    "\n",
    "# Plot training & validation loss values\n",
    "plt.subplot(1, 2, 2)\n",
    "plt.plot(history.history['loss'], label='Train Loss')\n",
    "plt.plot(history.history['val_loss'], label='Validation Loss')\n",
    "plt.title('Model Loss')\n",
    "plt.ylabel('Loss')\n",
    "plt.xlabel('Epoch')\n",
    "plt.legend(loc='upper left')\n",
    "\n",
    "plt.show()"
   ]
  },
  {
   "cell_type": "code",
   "execution_count": 14,
   "metadata": {},
   "outputs": [
    {
     "name": "stderr",
     "output_type": "stream",
     "text": [
      "C:\\Users\\N1NRK\\AppData\\Roaming\\Python\\Python311\\site-packages\\keras\\src\\engine\\training.py:3103: UserWarning: You are saving your model as an HDF5 file via `model.save()`. This file format is considered legacy. We recommend using instead the native Keras format, e.g. `model.save('my_model.keras')`.\n",
      "  saving_api.save_model(\n"
     ]
    }
   ],
   "source": [
    "# Menyimpan model\n",
    "model.save('trashify_model.h5')"
   ]
  },
  {
   "cell_type": "code",
   "execution_count": 15,
   "metadata": {},
   "outputs": [],
   "source": [
    "# Menyimpan model dalam format JSON\n",
    "model_json = model.to_json()\n",
    "with open(\"trashify_model.json\", \"w\") as json_file:\n",
    "    json_file.write(model_json)\n"
   ]
  },
  {
   "cell_type": "code",
   "execution_count": 16,
   "metadata": {},
   "outputs": [
    {
     "name": "stdout",
     "output_type": "stream",
     "text": [
      "Model saved in both H5 (binary) and JSON formats\n"
     ]
    }
   ],
   "source": [
    "# Menyimpan bobot model secara terpisah untuk menjaga ukuran file JSON tetap kecil\n",
    "model.save_weights(\"trashify_model_weight.h5\")\n",
    "\n",
    "print(\"Model saved in both H5 (binary) and JSON formats\")"
   ]
  },
  {
   "cell_type": "code",
   "execution_count": 17,
   "metadata": {},
   "outputs": [
    {
     "name": "stdout",
     "output_type": "stream",
     "text": [
      "Model saved in Pickle format as well\n"
     ]
    }
   ],
   "source": [
    "# Save model using pickle (binary)\n",
    "import pickle\n",
    "\n",
    "with open('trashify_model.pkl', 'wb') as pickle_file:\n",
    "    pickle.dump(model, pickle_file)\n",
    "\n",
    "print(\"Model saved in Pickle format as well\")"
   ]
  },
  {
   "cell_type": "code",
   "execution_count": 18,
   "metadata": {},
   "outputs": [],
   "source": [
    "# Memuat model dari H5 (binary)\n",
    "from tensorflow.keras.models import load_model\n",
    "loaded_model_bin = load_model('trashify_model.h5')"
   ]
  },
  {
   "cell_type": "code",
   "execution_count": 26,
   "metadata": {},
   "outputs": [
    {
     "name": "stdout",
     "output_type": "stream",
     "text": [
      "WARNING:tensorflow:From C:\\Users\\N1NRK\\AppData\\Roaming\\Python\\Python311\\site-packages\\keras\\src\\optimizers\\__init__.py:309: The name tf.train.Optimizer is deprecated. Please use tf.compat.v1.train.Optimizer instead.\n",
      "\n"
     ]
    },
    {
     "name": "stderr",
     "output_type": "stream",
     "text": [
      "WARNING:tensorflow:From C:\\Users\\N1NRK\\AppData\\Roaming\\Python\\Python311\\site-packages\\keras\\src\\optimizers\\__init__.py:309: The name tf.train.Optimizer is deprecated. Please use tf.compat.v1.train.Optimizer instead.\n",
      "\n"
     ]
    }
   ],
   "source": [
    "# Memuat model dari file JSON\n",
    "with open(\"trashify_model.json\", \"r\") as json_file:\n",
    "    loaded_model_json = json_file.read()\n",
    "loaded_model_from_json = model_from_json(loaded_model_json)\n",
    "loaded_model_from_json.load_weights('trashify_model_weight.h5')\n",
    "loaded_model_from_json.compile(optimizer='adam', loss='sparse_categorical_crossentropy', metrics=['accuracy'])"
   ]
  },
  {
   "cell_type": "code",
   "execution_count": 27,
   "metadata": {},
   "outputs": [],
   "source": [
    "# Memuat model dari file Pickle\n",
    "with open('trashify_model.pkl', 'rb') as pickle_file:\n",
    "    loaded_model_pickle = pickle.load(pickle_file)\n",
    "loaded_model_pickle.compile(optimizer='adam', loss='sparse_categorical_crossentropy', metrics=['accuracy'])\n"
   ]
  },
  {
   "cell_type": "code",
   "execution_count": 38,
   "metadata": {},
   "outputs": [],
   "source": [
    "# Verifikasi bahwa model yang dimuat adalah sama\n",
    "import numpy as np\n",
    "from tensorflow.keras.preprocessing.image import img_to_array, load_img\n",
    "import os\n",
    "\n",
    "# Memuat gambar uji untuk memverifikasi prediksi\n",
    "test_image_path = os.path.join(dataset_dir, 'test3.png')  # Ganti dengan path gambar uji yang ada\n",
    "test_image = load_img(test_image_path, target_size=(img_height, img_width))\n",
    "test_image = img_to_array(test_image)\n",
    "test_image = np.expand_dims(test_image, axis=0) / 255.0"
   ]
  },
  {
   "cell_type": "code",
   "execution_count": 39,
   "metadata": {},
   "outputs": [
    {
     "name": "stdout",
     "output_type": "stream",
     "text": [
      "1/1 [==============================] - 0s 41ms/step\n",
      "1/1 [==============================] - 0s 34ms/step\n",
      "1/1 [==============================] - 0s 30ms/step\n",
      "Prediction from binary model (H5): [[5.9638993e-04 9.9850392e-01 3.0755891e-07 8.4011026e-07 8.8779762e-04\n",
      "  1.8069363e-06 9.0168032e-06]] => Predicted class: kaca\n",
      "Prediction from JSON model: [[5.9638993e-04 9.9850392e-01 3.0755891e-07 8.4011026e-07 8.8779762e-04\n",
      "  1.8069363e-06 9.0168032e-06]] => Predicted class: kaca\n",
      "Prediction from Pickle model: [[5.9638993e-04 9.9850392e-01 3.0755891e-07 8.4011026e-07 8.8779762e-04\n",
      "  1.8069363e-06 9.0168032e-06]] => Predicted class: kaca\n"
     ]
    }
   ],
   "source": [
    "# Daftar nama kelas sesuai dengan urutan indeks\n",
    "class_names = ['botol', 'kaca', 'kardus', 'kertas', 'metal', 'organic', 'plastic']\n",
    "\n",
    "# Memprediksi menggunakan ketiga model\n",
    "pred_bin = loaded_model_bin.predict(test_image)\n",
    "pred_json = loaded_model_from_json.predict(test_image)\n",
    "pred_pickle = loaded_model_pickle.predict(test_image)\n",
    "\n",
    "# Mendapatkan indeks dari kelas yang diprediksi\n",
    "pred_class_bin = np.argmax(pred_bin, axis=1)\n",
    "pred_class_json = np.argmax(pred_json, axis=1)\n",
    "pred_class_pickle = np.argmax(pred_pickle, axis=1)\n",
    "\n",
    "# Mencetak hasil prediksi dengan nama kelas\n",
    "print(f\"Prediction from binary model (H5): {pred_bin} => Predicted class: {class_names[pred_class_bin[0]]}\")\n",
    "print(f\"Prediction from JSON model: {pred_json} => Predicted class: {class_names[pred_class_json[0]]}\")\n",
    "print(f\"Prediction from Pickle model: {pred_pickle} => Predicted class: {class_names[pred_class_pickle[0]]}\")"
   ]
  }
 ],
 "metadata": {
  "kernelspec": {
   "display_name": "Python 3",
   "language": "python",
   "name": "python3"
  },
  "language_info": {
   "codemirror_mode": {
    "name": "ipython",
    "version": 3
   },
   "file_extension": ".py",
   "mimetype": "text/x-python",
   "name": "python",
   "nbconvert_exporter": "python",
   "pygments_lexer": "ipython3",
   "version": "3.11.5"
  }
 },
 "nbformat": 4,
 "nbformat_minor": 2
}
